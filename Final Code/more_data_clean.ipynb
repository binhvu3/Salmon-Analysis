{
 "cells": [
  {
   "cell_type": "code",
   "execution_count": 6,
   "id": "420a1b57",
   "metadata": {},
   "outputs": [
    {
     "name": "stderr",
     "output_type": "stream",
     "text": [
      "Loading required package: readxl\n",
      "\n"
     ]
    }
   ],
   "source": [
    "if (!require(dplyr)) install.packages(\"dplyr\", lib=\"../work/\")\n",
    "library(dplyr)\n",
    "\n",
    "if (!require(readxl)) install.packages(\"readxl\", lib=\"../work/\")\n",
    "library(readxl)"
   ]
  },
  {
   "cell_type": "markdown",
   "id": "f0943a06",
   "metadata": {},
   "source": [
    "## Check the current fish_master"
   ]
  },
  {
   "cell_type": "code",
   "execution_count": 24,
   "id": "f93910ce",
   "metadata": {},
   "outputs": [
    {
     "data": {
      "text/html": [
       "<table class=\"dataframe\">\n",
       "<caption>A tibble: 6 × 15</caption>\n",
       "<thead>\n",
       "\t<tr><th scope=col>date</th><th scope=col>year_x</th><th scope=col>fish_count</th><th scope=col>precipitation</th><th scope=col>air_temp</th><th scope=col>stage</th><th scope=col>discharge</th><th scope=col>water_temp</th><th scope=col>luna</th><th scope=col>moon_phase</th><th scope=col>Set Gill Net</th><th scope=col>Drift Gill Net</th><th scope=col>year_y</th><th scope=col>set_net</th><th scope=col>drift_net</th></tr>\n",
       "\t<tr><th scope=col>&lt;dttm&gt;</th><th scope=col>&lt;dbl&gt;</th><th scope=col>&lt;dbl&gt;</th><th scope=col>&lt;dbl&gt;</th><th scope=col>&lt;dbl&gt;</th><th scope=col>&lt;dbl&gt;</th><th scope=col>&lt;dbl&gt;</th><th scope=col>&lt;dbl&gt;</th><th scope=col>&lt;dbl&gt;</th><th scope=col>&lt;chr&gt;</th><th scope=col>&lt;chr&gt;</th><th scope=col>&lt;chr&gt;</th><th scope=col>&lt;dbl&gt;</th><th scope=col>&lt;dbl&gt;</th><th scope=col>&lt;dbl&gt;</th></tr>\n",
       "</thead>\n",
       "<tbody>\n",
       "\t<tr><td>2022-07-01</td><td>2022</td><td> 5034</td><td> 0</td><td>57.5</td><td> 9.92</td><td>15000</td><td>59.72</td><td> 3</td><td>New Moon     </td><td>NA                                     </td><td>NA                                   </td><td>  NA</td><td>NA</td><td>NA</td></tr>\n",
       "\t<tr><td>2022-07-02</td><td>2022</td><td> 4212</td><td> 0</td><td>56.5</td><td>10.02</td><td>15200</td><td>59.00</td><td> 4</td><td>New Moon     </td><td>NA                                     </td><td>Kasilof Section                      </td><td>2022</td><td> 0</td><td> 1</td></tr>\n",
       "\t<tr><td>2022-07-03</td><td>2022</td><td> 5796</td><td> 0</td><td>58.5</td><td>10.04</td><td>15300</td><td>57.20</td><td> 5</td><td>New Moon     </td><td>NA                                     </td><td>NA                                   </td><td>  NA</td><td>NA</td><td>NA</td></tr>\n",
       "\t<tr><td>2022-07-04</td><td>2022</td><td> 7314</td><td>NA</td><td>57.5</td><td>10.08</td><td>15300</td><td>56.84</td><td> 6</td><td><span style=white-space:pre-wrap>New Moon     </span></td><td>All except Kenai &amp; E. Foreland sections</td><td>District Wide except Chinitna Bay Sub</td><td>2022</td><td> 0</td><td> 0</td></tr>\n",
       "\t<tr><td>2022-07-05</td><td>2022</td><td> 7386</td><td> 0</td><td>55.5</td><td>10.03</td><td>15200</td><td>57.02</td><td> 7</td><td>New Moon     </td><td>NA                                     </td><td>NA                                   </td><td>  NA</td><td>NA</td><td>NA</td></tr>\n",
       "\t<tr><td>2022-07-06</td><td>2022</td><td>10341</td><td> 0</td><td>57.5</td><td>10.02</td><td>15100</td><td>56.84</td><td>10</td><td>First Quarter</td><td>NA                                     </td><td>Drift Area 1                         </td><td>2022</td><td> 0</td><td> 0</td></tr>\n",
       "</tbody>\n",
       "</table>\n"
      ],
      "text/latex": [
       "A tibble: 6 × 15\n",
       "\\begin{tabular}{lllllllllllllll}\n",
       " date & year\\_x & fish\\_count & precipitation & air\\_temp & stage & discharge & water\\_temp & luna & moon\\_phase & Set Gill Net & Drift Gill Net & year\\_y & set\\_net & drift\\_net\\\\\n",
       " <dttm> & <dbl> & <dbl> & <dbl> & <dbl> & <dbl> & <dbl> & <dbl> & <dbl> & <chr> & <chr> & <chr> & <dbl> & <dbl> & <dbl>\\\\\n",
       "\\hline\n",
       "\t 2022-07-01 & 2022 &  5034 &  0 & 57.5 &  9.92 & 15000 & 59.72 &  3 & New Moon      & NA                                      & NA                                    &   NA & NA & NA\\\\\n",
       "\t 2022-07-02 & 2022 &  4212 &  0 & 56.5 & 10.02 & 15200 & 59.00 &  4 & New Moon      & NA                                      & Kasilof Section                       & 2022 &  0 &  1\\\\\n",
       "\t 2022-07-03 & 2022 &  5796 &  0 & 58.5 & 10.04 & 15300 & 57.20 &  5 & New Moon      & NA                                      & NA                                    &   NA & NA & NA\\\\\n",
       "\t 2022-07-04 & 2022 &  7314 & NA & 57.5 & 10.08 & 15300 & 56.84 &  6 & New Moon      & All except Kenai \\& E. Foreland sections & District Wide except Chinitna Bay Sub & 2022 &  0 &  0\\\\\n",
       "\t 2022-07-05 & 2022 &  7386 &  0 & 55.5 & 10.03 & 15200 & 57.02 &  7 & New Moon      & NA                                      & NA                                    &   NA & NA & NA\\\\\n",
       "\t 2022-07-06 & 2022 & 10341 &  0 & 57.5 & 10.02 & 15100 & 56.84 & 10 & First Quarter & NA                                      & Drift Area 1                          & 2022 &  0 &  0\\\\\n",
       "\\end{tabular}\n"
      ],
      "text/markdown": [
       "\n",
       "A tibble: 6 × 15\n",
       "\n",
       "| date &lt;dttm&gt; | year_x &lt;dbl&gt; | fish_count &lt;dbl&gt; | precipitation &lt;dbl&gt; | air_temp &lt;dbl&gt; | stage &lt;dbl&gt; | discharge &lt;dbl&gt; | water_temp &lt;dbl&gt; | luna &lt;dbl&gt; | moon_phase &lt;chr&gt; | Set Gill Net &lt;chr&gt; | Drift Gill Net &lt;chr&gt; | year_y &lt;dbl&gt; | set_net &lt;dbl&gt; | drift_net &lt;dbl&gt; |\n",
       "|---|---|---|---|---|---|---|---|---|---|---|---|---|---|---|\n",
       "| 2022-07-01 | 2022 |  5034 |  0 | 57.5 |  9.92 | 15000 | 59.72 |  3 | New Moon      | NA                                      | NA                                    |   NA | NA | NA |\n",
       "| 2022-07-02 | 2022 |  4212 |  0 | 56.5 | 10.02 | 15200 | 59.00 |  4 | New Moon      | NA                                      | Kasilof Section                       | 2022 |  0 |  1 |\n",
       "| 2022-07-03 | 2022 |  5796 |  0 | 58.5 | 10.04 | 15300 | 57.20 |  5 | New Moon      | NA                                      | NA                                    |   NA | NA | NA |\n",
       "| 2022-07-04 | 2022 |  7314 | NA | 57.5 | 10.08 | 15300 | 56.84 |  6 | New Moon      | All except Kenai &amp; E. Foreland sections | District Wide except Chinitna Bay Sub | 2022 |  0 |  0 |\n",
       "| 2022-07-05 | 2022 |  7386 |  0 | 55.5 | 10.03 | 15200 | 57.02 |  7 | New Moon      | NA                                      | NA                                    |   NA | NA | NA |\n",
       "| 2022-07-06 | 2022 | 10341 |  0 | 57.5 | 10.02 | 15100 | 56.84 | 10 | First Quarter | NA                                      | Drift Area 1                          | 2022 |  0 |  0 |\n",
       "\n"
      ],
      "text/plain": [
       "  date       year_x fish_count precipitation air_temp stage discharge\n",
       "1 2022-07-01 2022    5034       0            57.5      9.92 15000    \n",
       "2 2022-07-02 2022    4212       0            56.5     10.02 15200    \n",
       "3 2022-07-03 2022    5796       0            58.5     10.04 15300    \n",
       "4 2022-07-04 2022    7314      NA            57.5     10.08 15300    \n",
       "5 2022-07-05 2022    7386       0            55.5     10.03 15200    \n",
       "6 2022-07-06 2022   10341       0            57.5     10.02 15100    \n",
       "  water_temp luna moon_phase    Set Gill Net                           \n",
       "1 59.72       3   New Moon      NA                                     \n",
       "2 59.00       4   New Moon      NA                                     \n",
       "3 57.20       5   New Moon      NA                                     \n",
       "4 56.84       6   New Moon      All except Kenai & E. Foreland sections\n",
       "5 57.02       7   New Moon      NA                                     \n",
       "6 56.84      10   First Quarter NA                                     \n",
       "  Drift Gill Net                        year_y set_net drift_net\n",
       "1 NA                                      NA   NA      NA       \n",
       "2 Kasilof Section                       2022    0       1       \n",
       "3 NA                                      NA   NA      NA       \n",
       "4 District Wide except Chinitna Bay Sub 2022    0       0       \n",
       "5 NA                                      NA   NA      NA       \n",
       "6 Drift Area 1                          2022    0       0       "
      ]
     },
     "metadata": {},
     "output_type": "display_data"
    }
   ],
   "source": [
    "# Import in Combined Kenai Data\n",
    "fish_master = read_excel(\"../Data/fish_master.xlsx\")\n",
    "head(fish_master)"
   ]
  },
  {
   "cell_type": "code",
   "execution_count": 47,
   "id": "766c8af4",
   "metadata": {},
   "outputs": [
    {
     "data": {
      "text/plain": [
       "      date                         year_x       fish_count    \n",
       " Min.   :2000-07-01 00:00:00   Min.   :2000   Min.   :  1252  \n",
       " 1st Qu.:2006-07-12 18:00:00   1st Qu.:2006   1st Qu.: 10612  \n",
       " Median :2011-08-06 12:00:00   Median :2011   Median : 21716  \n",
       " Mean   :2011-11-22 11:30:50   Mean   :2011   Mean   : 30339  \n",
       " 3rd Qu.:2017-08-08 06:00:00   3rd Qu.:2017   3rd Qu.: 39961  \n",
       " Max.   :2022-08-16 00:00:00   Max.   :2022   Max.   :247084  \n",
       "                                                              \n",
       " precipitation        air_temp         stage          discharge    \n",
       " Min.   :0.00000   Min.   :45.50   Min.   : 7.270   Min.   : 9000  \n",
       " 1st Qu.:0.00000   1st Qu.:54.50   1st Qu.: 9.030   1st Qu.:12900  \n",
       " Median :0.00000   Median :56.50   Median : 9.395   Median :14100  \n",
       " Mean   :0.07346   Mean   :56.37   Mean   : 9.416   Mean   :14272  \n",
       " 3rd Qu.:0.08000   3rd Qu.:58.50   3rd Qu.: 9.840   3rd Qu.:15500  \n",
       " Max.   :1.86000   Max.   :70.00   Max.   :11.690   Max.   :23700  \n",
       " NA's   :109       NA's   :1       NA's   :54                      \n",
       "   water_temp         luna        moon_phase        Set Gill Net      \n",
       " Min.   :47.66   Min.   : 0.00   Length:1136        Length:1136       \n",
       " 1st Qu.:52.70   1st Qu.: 7.00   Class :character   Class :character  \n",
       " Median :54.32   Median :16.00   Mode  :character   Mode  :character  \n",
       " Mean   :54.42   Mean   :17.81                                        \n",
       " 3rd Qu.:56.30   3rd Qu.:27.00                                        \n",
       " Max.   :63.86   Max.   :38.00                                        \n",
       " NA's   :576                                                          \n",
       " Drift Gill Net         year_y        set_net         drift_net     \n",
       " Length:1136        Min.   :2000   Min.   :0.0000   Min.   :0.0000  \n",
       " Class :character   1st Qu.:2005   1st Qu.:0.0000   1st Qu.:0.0000  \n",
       " Mode  :character   Median :2010   Median :1.0000   Median :0.0000  \n",
       "                    Mean   :2011   Mean   :0.5802   Mean   :0.3939  \n",
       "                    3rd Qu.:2016   3rd Qu.:1.0000   3rd Qu.:1.0000  \n",
       "                    Max.   :2022   Max.   :1.0000   Max.   :1.0000  \n",
       "                    NA's   :288    NA's   :288      NA's   :288     "
      ]
     },
     "metadata": {},
     "output_type": "display_data"
    }
   ],
   "source": [
    "summary(fish_master)"
   ]
  },
  {
   "cell_type": "code",
   "execution_count": 46,
   "id": "a10b134f",
   "metadata": {},
   "outputs": [
    {
     "data": {
      "text/html": [
       "<table class=\"dataframe\">\n",
       "<caption>A tibble: 6 × 2</caption>\n",
       "<thead>\n",
       "\t<tr><th scope=col>date</th><th scope=col>moon_phase</th></tr>\n",
       "\t<tr><th scope=col>&lt;date&gt;</th><th scope=col>&lt;chr&gt;</th></tr>\n",
       "</thead>\n",
       "<tbody>\n",
       "\t<tr><td>2022-07-01</td><td>New Moon     </td></tr>\n",
       "\t<tr><td>2022-07-02</td><td>New Moon     </td></tr>\n",
       "\t<tr><td>2022-07-03</td><td>New Moon     </td></tr>\n",
       "\t<tr><td>2022-07-04</td><td>New Moon     </td></tr>\n",
       "\t<tr><td>2022-07-05</td><td>New Moon     </td></tr>\n",
       "\t<tr><td>2022-07-06</td><td>First Quarter</td></tr>\n",
       "</tbody>\n",
       "</table>\n"
      ],
      "text/latex": [
       "A tibble: 6 × 2\n",
       "\\begin{tabular}{ll}\n",
       " date & moon\\_phase\\\\\n",
       " <date> & <chr>\\\\\n",
       "\\hline\n",
       "\t 2022-07-01 & New Moon     \\\\\n",
       "\t 2022-07-02 & New Moon     \\\\\n",
       "\t 2022-07-03 & New Moon     \\\\\n",
       "\t 2022-07-04 & New Moon     \\\\\n",
       "\t 2022-07-05 & New Moon     \\\\\n",
       "\t 2022-07-06 & First Quarter\\\\\n",
       "\\end{tabular}\n"
      ],
      "text/markdown": [
       "\n",
       "A tibble: 6 × 2\n",
       "\n",
       "| date &lt;date&gt; | moon_phase &lt;chr&gt; |\n",
       "|---|---|\n",
       "| 2022-07-01 | New Moon      |\n",
       "| 2022-07-02 | New Moon      |\n",
       "| 2022-07-03 | New Moon      |\n",
       "| 2022-07-04 | New Moon      |\n",
       "| 2022-07-05 | New Moon      |\n",
       "| 2022-07-06 | First Quarter |\n",
       "\n"
      ],
      "text/plain": [
       "  date       moon_phase   \n",
       "1 2022-07-01 New Moon     \n",
       "2 2022-07-02 New Moon     \n",
       "3 2022-07-03 New Moon     \n",
       "4 2022-07-04 New Moon     \n",
       "5 2022-07-05 New Moon     \n",
       "6 2022-07-06 First Quarter"
      ]
     },
     "metadata": {},
     "output_type": "display_data"
    }
   ],
   "source": [
    "# Take only the moon phase data\n",
    "moon_phase = fish_master[c(\"date\", \"moon_phase\")]\n",
    "moon_phase$date = as.Date(moon_phase$date, '%Y-%m-%d')\n",
    "head(moon_phase)"
   ]
  },
  {
   "cell_type": "code",
   "execution_count": 45,
   "id": "dbe716b5",
   "metadata": {},
   "outputs": [
    {
     "data": {
      "text/html": [
       "<table class=\"dataframe\">\n",
       "<caption>A data.frame: 6 × 9</caption>\n",
       "<thead>\n",
       "\t<tr><th></th><th scope=col>date</th><th scope=col>year</th><th scope=col>fish_count</th><th scope=col>precipitation</th><th scope=col>air_temp</th><th scope=col>stage</th><th scope=col>discharge</th><th scope=col>water_temp</th><th scope=col>luna</th></tr>\n",
       "\t<tr><th></th><th scope=col>&lt;date&gt;</th><th scope=col>&lt;int&gt;</th><th scope=col>&lt;int&gt;</th><th scope=col>&lt;dbl&gt;</th><th scope=col>&lt;dbl&gt;</th><th scope=col>&lt;dbl&gt;</th><th scope=col>&lt;int&gt;</th><th scope=col>&lt;dbl&gt;</th><th scope=col>&lt;int&gt;</th></tr>\n",
       "</thead>\n",
       "<tbody>\n",
       "\t<tr><th scope=row>1</th><td>2022-07-01</td><td>2022</td><td> 5034</td><td>0</td><td>57.5</td><td> 9.92</td><td>15000</td><td>59.72</td><td> 3</td></tr>\n",
       "\t<tr><th scope=row>2</th><td>2022-07-02</td><td>2022</td><td> 4212</td><td>0</td><td>56.5</td><td>10.02</td><td>15200</td><td>59.00</td><td> 4</td></tr>\n",
       "\t<tr><th scope=row>3</th><td>2022-07-03</td><td>2022</td><td> 5796</td><td>0</td><td>58.5</td><td>10.04</td><td>15300</td><td>57.20</td><td> 5</td></tr>\n",
       "\t<tr><th scope=row>4</th><td>2022-07-04</td><td>2022</td><td> 7314</td><td>0</td><td>57.5</td><td>10.08</td><td>15300</td><td>56.84</td><td> 6</td></tr>\n",
       "\t<tr><th scope=row>5</th><td>2022-07-05</td><td>2022</td><td> 7386</td><td>0</td><td>55.5</td><td>10.03</td><td>15200</td><td>57.02</td><td> 7</td></tr>\n",
       "\t<tr><th scope=row>6</th><td>2022-07-06</td><td>2022</td><td>10341</td><td>0</td><td>57.5</td><td>10.02</td><td>15100</td><td>56.84</td><td>10</td></tr>\n",
       "</tbody>\n",
       "</table>\n"
      ],
      "text/latex": [
       "A data.frame: 6 × 9\n",
       "\\begin{tabular}{r|lllllllll}\n",
       "  & date & year & fish\\_count & precipitation & air\\_temp & stage & discharge & water\\_temp & luna\\\\\n",
       "  & <date> & <int> & <int> & <dbl> & <dbl> & <dbl> & <int> & <dbl> & <int>\\\\\n",
       "\\hline\n",
       "\t1 & 2022-07-01 & 2022 &  5034 & 0 & 57.5 &  9.92 & 15000 & 59.72 &  3\\\\\n",
       "\t2 & 2022-07-02 & 2022 &  4212 & 0 & 56.5 & 10.02 & 15200 & 59.00 &  4\\\\\n",
       "\t3 & 2022-07-03 & 2022 &  5796 & 0 & 58.5 & 10.04 & 15300 & 57.20 &  5\\\\\n",
       "\t4 & 2022-07-04 & 2022 &  7314 & 0 & 57.5 & 10.08 & 15300 & 56.84 &  6\\\\\n",
       "\t5 & 2022-07-05 & 2022 &  7386 & 0 & 55.5 & 10.03 & 15200 & 57.02 &  7\\\\\n",
       "\t6 & 2022-07-06 & 2022 & 10341 & 0 & 57.5 & 10.02 & 15100 & 56.84 & 10\\\\\n",
       "\\end{tabular}\n"
      ],
      "text/markdown": [
       "\n",
       "A data.frame: 6 × 9\n",
       "\n",
       "| <!--/--> | date &lt;date&gt; | year &lt;int&gt; | fish_count &lt;int&gt; | precipitation &lt;dbl&gt; | air_temp &lt;dbl&gt; | stage &lt;dbl&gt; | discharge &lt;int&gt; | water_temp &lt;dbl&gt; | luna &lt;int&gt; |\n",
       "|---|---|---|---|---|---|---|---|---|---|\n",
       "| 1 | 2022-07-01 | 2022 |  5034 | 0 | 57.5 |  9.92 | 15000 | 59.72 |  3 |\n",
       "| 2 | 2022-07-02 | 2022 |  4212 | 0 | 56.5 | 10.02 | 15200 | 59.00 |  4 |\n",
       "| 3 | 2022-07-03 | 2022 |  5796 | 0 | 58.5 | 10.04 | 15300 | 57.20 |  5 |\n",
       "| 4 | 2022-07-04 | 2022 |  7314 | 0 | 57.5 | 10.08 | 15300 | 56.84 |  6 |\n",
       "| 5 | 2022-07-05 | 2022 |  7386 | 0 | 55.5 | 10.03 | 15200 | 57.02 |  7 |\n",
       "| 6 | 2022-07-06 | 2022 | 10341 | 0 | 57.5 | 10.02 | 15100 | 56.84 | 10 |\n",
       "\n"
      ],
      "text/plain": [
       "  date       year fish_count precipitation air_temp stage discharge water_temp\n",
       "1 2022-07-01 2022  5034      0             57.5      9.92 15000     59.72     \n",
       "2 2022-07-02 2022  4212      0             56.5     10.02 15200     59.00     \n",
       "3 2022-07-03 2022  5796      0             58.5     10.04 15300     57.20     \n",
       "4 2022-07-04 2022  7314      0             57.5     10.08 15300     56.84     \n",
       "5 2022-07-05 2022  7386      0             55.5     10.03 15200     57.02     \n",
       "6 2022-07-06 2022 10341      0             57.5     10.02 15100     56.84     \n",
       "  luna\n",
       "1  3  \n",
       "2  4  \n",
       "3  5  \n",
       "4  6  \n",
       "5  7  \n",
       "6 10  "
      ]
     },
     "metadata": {},
     "output_type": "display_data"
    }
   ],
   "source": [
    "# Read in the clean fish data\n",
    "fish_data = read.csv('../Data/fish_data_water_temp.csv')\n",
    "fish_data$date = as.Date(fish_data$date, '%Y-%m-%d')\n",
    "head(fish_data)"
   ]
  },
  {
   "cell_type": "code",
   "execution_count": 54,
   "id": "22388679",
   "metadata": {},
   "outputs": [
    {
     "data": {
      "text/html": [
       "<table class=\"dataframe\">\n",
       "<caption>A tibble: 6 × 3</caption>\n",
       "<thead>\n",
       "\t<tr><th scope=col>date</th><th scope=col>set_net</th><th scope=col>drift_net</th></tr>\n",
       "\t<tr><th scope=col>&lt;date&gt;</th><th scope=col>&lt;dbl&gt;</th><th scope=col>&lt;dbl&gt;</th></tr>\n",
       "</thead>\n",
       "<tbody>\n",
       "\t<tr><td>2000-06-02</td><td>0</td><td>0</td></tr>\n",
       "\t<tr><td>2000-06-05</td><td>0</td><td>0</td></tr>\n",
       "\t<tr><td>2000-06-07</td><td>0</td><td>0</td></tr>\n",
       "\t<tr><td>2000-06-09</td><td>0</td><td>0</td></tr>\n",
       "\t<tr><td>2000-06-12</td><td>0</td><td>0</td></tr>\n",
       "\t<tr><td>2000-06-14</td><td>0</td><td>0</td></tr>\n",
       "</tbody>\n",
       "</table>\n"
      ],
      "text/latex": [
       "A tibble: 6 × 3\n",
       "\\begin{tabular}{lll}\n",
       " date & set\\_net & drift\\_net\\\\\n",
       " <date> & <dbl> & <dbl>\\\\\n",
       "\\hline\n",
       "\t 2000-06-02 & 0 & 0\\\\\n",
       "\t 2000-06-05 & 0 & 0\\\\\n",
       "\t 2000-06-07 & 0 & 0\\\\\n",
       "\t 2000-06-09 & 0 & 0\\\\\n",
       "\t 2000-06-12 & 0 & 0\\\\\n",
       "\t 2000-06-14 & 0 & 0\\\\\n",
       "\\end{tabular}\n"
      ],
      "text/markdown": [
       "\n",
       "A tibble: 6 × 3\n",
       "\n",
       "| date &lt;date&gt; | set_net &lt;dbl&gt; | drift_net &lt;dbl&gt; |\n",
       "|---|---|---|\n",
       "| 2000-06-02 | 0 | 0 |\n",
       "| 2000-06-05 | 0 | 0 |\n",
       "| 2000-06-07 | 0 | 0 |\n",
       "| 2000-06-09 | 0 | 0 |\n",
       "| 2000-06-12 | 0 | 0 |\n",
       "| 2000-06-14 | 0 | 0 |\n",
       "\n"
      ],
      "text/plain": [
       "  date       set_net drift_net\n",
       "1 2000-06-02 0       0        \n",
       "2 2000-06-05 0       0        \n",
       "3 2000-06-07 0       0        \n",
       "4 2000-06-09 0       0        \n",
       "5 2000-06-12 0       0        \n",
       "6 2000-06-14 0       0        "
      ]
     },
     "metadata": {},
     "output_type": "display_data"
    }
   ],
   "source": [
    "net_data = read_excel('../Data/fish_test_cleanednets.xlsx')\n",
    "\n",
    "# Convert char to datetime\n",
    "net_data$date = as.Date(net_data$full_date, '%m/%d/%Y')\n",
    "\n",
    "# Keep only set_net and drift_net\n",
    "net_data = net_data[c('date', 'set_net', 'drift_net')]\n",
    "\n",
    "head(net_data)\n"
   ]
  },
  {
   "cell_type": "code",
   "execution_count": 49,
   "id": "c12841c9",
   "metadata": {},
   "outputs": [
    {
     "name": "stderr",
     "output_type": "stream",
     "text": [
      "Warning message in left_join(fish_data, moon_phase, by = c(\"date\")):\n",
      "“\u001b[1m\u001b[22mEach row in `x` is expected to match at most 1 row in `y`.\n",
      "\u001b[36mℹ\u001b[39m Row 113 of `x` matches multiple rows.\n",
      "\u001b[36mℹ\u001b[39m If multiple matches are expected, set `multiple = \"all\"` to silence this\n",
      "  warning.”\n"
     ]
    }
   ],
   "source": [
    "# Combine fish and moon data\n",
    "combined_data = left_join(fish_data, moon_phase, by=c('date'))"
   ]
  },
  {
   "cell_type": "code",
   "execution_count": 50,
   "id": "79597542",
   "metadata": {},
   "outputs": [
    {
     "data": {
      "text/html": [
       "<table class=\"dataframe\">\n",
       "<caption>A data.frame: 6 × 10</caption>\n",
       "<thead>\n",
       "\t<tr><th></th><th scope=col>date</th><th scope=col>year</th><th scope=col>fish_count</th><th scope=col>precipitation</th><th scope=col>air_temp</th><th scope=col>stage</th><th scope=col>discharge</th><th scope=col>water_temp</th><th scope=col>luna</th><th scope=col>moon_phase</th></tr>\n",
       "\t<tr><th></th><th scope=col>&lt;date&gt;</th><th scope=col>&lt;int&gt;</th><th scope=col>&lt;int&gt;</th><th scope=col>&lt;dbl&gt;</th><th scope=col>&lt;dbl&gt;</th><th scope=col>&lt;dbl&gt;</th><th scope=col>&lt;int&gt;</th><th scope=col>&lt;dbl&gt;</th><th scope=col>&lt;int&gt;</th><th scope=col>&lt;chr&gt;</th></tr>\n",
       "</thead>\n",
       "<tbody>\n",
       "\t<tr><th scope=row>1</th><td>2022-07-01</td><td>2022</td><td> 5034</td><td>0</td><td>57.5</td><td> 9.92</td><td>15000</td><td>59.72</td><td> 3</td><td>New Moon     </td></tr>\n",
       "\t<tr><th scope=row>2</th><td>2022-07-02</td><td>2022</td><td> 4212</td><td>0</td><td>56.5</td><td>10.02</td><td>15200</td><td>59.00</td><td> 4</td><td>New Moon     </td></tr>\n",
       "\t<tr><th scope=row>3</th><td>2022-07-03</td><td>2022</td><td> 5796</td><td>0</td><td>58.5</td><td>10.04</td><td>15300</td><td>57.20</td><td> 5</td><td>New Moon     </td></tr>\n",
       "\t<tr><th scope=row>4</th><td>2022-07-04</td><td>2022</td><td> 7314</td><td>0</td><td>57.5</td><td>10.08</td><td>15300</td><td>56.84</td><td> 6</td><td>New Moon     </td></tr>\n",
       "\t<tr><th scope=row>5</th><td>2022-07-05</td><td>2022</td><td> 7386</td><td>0</td><td>55.5</td><td>10.03</td><td>15200</td><td>57.02</td><td> 7</td><td>New Moon     </td></tr>\n",
       "\t<tr><th scope=row>6</th><td>2022-07-06</td><td>2022</td><td>10341</td><td>0</td><td>57.5</td><td>10.02</td><td>15100</td><td>56.84</td><td>10</td><td>First Quarter</td></tr>\n",
       "</tbody>\n",
       "</table>\n"
      ],
      "text/latex": [
       "A data.frame: 6 × 10\n",
       "\\begin{tabular}{r|llllllllll}\n",
       "  & date & year & fish\\_count & precipitation & air\\_temp & stage & discharge & water\\_temp & luna & moon\\_phase\\\\\n",
       "  & <date> & <int> & <int> & <dbl> & <dbl> & <dbl> & <int> & <dbl> & <int> & <chr>\\\\\n",
       "\\hline\n",
       "\t1 & 2022-07-01 & 2022 &  5034 & 0 & 57.5 &  9.92 & 15000 & 59.72 &  3 & New Moon     \\\\\n",
       "\t2 & 2022-07-02 & 2022 &  4212 & 0 & 56.5 & 10.02 & 15200 & 59.00 &  4 & New Moon     \\\\\n",
       "\t3 & 2022-07-03 & 2022 &  5796 & 0 & 58.5 & 10.04 & 15300 & 57.20 &  5 & New Moon     \\\\\n",
       "\t4 & 2022-07-04 & 2022 &  7314 & 0 & 57.5 & 10.08 & 15300 & 56.84 &  6 & New Moon     \\\\\n",
       "\t5 & 2022-07-05 & 2022 &  7386 & 0 & 55.5 & 10.03 & 15200 & 57.02 &  7 & New Moon     \\\\\n",
       "\t6 & 2022-07-06 & 2022 & 10341 & 0 & 57.5 & 10.02 & 15100 & 56.84 & 10 & First Quarter\\\\\n",
       "\\end{tabular}\n"
      ],
      "text/markdown": [
       "\n",
       "A data.frame: 6 × 10\n",
       "\n",
       "| <!--/--> | date &lt;date&gt; | year &lt;int&gt; | fish_count &lt;int&gt; | precipitation &lt;dbl&gt; | air_temp &lt;dbl&gt; | stage &lt;dbl&gt; | discharge &lt;int&gt; | water_temp &lt;dbl&gt; | luna &lt;int&gt; | moon_phase &lt;chr&gt; |\n",
       "|---|---|---|---|---|---|---|---|---|---|---|\n",
       "| 1 | 2022-07-01 | 2022 |  5034 | 0 | 57.5 |  9.92 | 15000 | 59.72 |  3 | New Moon      |\n",
       "| 2 | 2022-07-02 | 2022 |  4212 | 0 | 56.5 | 10.02 | 15200 | 59.00 |  4 | New Moon      |\n",
       "| 3 | 2022-07-03 | 2022 |  5796 | 0 | 58.5 | 10.04 | 15300 | 57.20 |  5 | New Moon      |\n",
       "| 4 | 2022-07-04 | 2022 |  7314 | 0 | 57.5 | 10.08 | 15300 | 56.84 |  6 | New Moon      |\n",
       "| 5 | 2022-07-05 | 2022 |  7386 | 0 | 55.5 | 10.03 | 15200 | 57.02 |  7 | New Moon      |\n",
       "| 6 | 2022-07-06 | 2022 | 10341 | 0 | 57.5 | 10.02 | 15100 | 56.84 | 10 | First Quarter |\n",
       "\n"
      ],
      "text/plain": [
       "  date       year fish_count precipitation air_temp stage discharge water_temp\n",
       "1 2022-07-01 2022  5034      0             57.5      9.92 15000     59.72     \n",
       "2 2022-07-02 2022  4212      0             56.5     10.02 15200     59.00     \n",
       "3 2022-07-03 2022  5796      0             58.5     10.04 15300     57.20     \n",
       "4 2022-07-04 2022  7314      0             57.5     10.08 15300     56.84     \n",
       "5 2022-07-05 2022  7386      0             55.5     10.03 15200     57.02     \n",
       "6 2022-07-06 2022 10341      0             57.5     10.02 15100     56.84     \n",
       "  luna moon_phase   \n",
       "1  3   New Moon     \n",
       "2  4   New Moon     \n",
       "3  5   New Moon     \n",
       "4  6   New Moon     \n",
       "5  7   New Moon     \n",
       "6 10   First Quarter"
      ]
     },
     "metadata": {},
     "output_type": "display_data"
    }
   ],
   "source": [
    "head(combined_data)"
   ]
  },
  {
   "cell_type": "code",
   "execution_count": 66,
   "id": "d8bef1f0",
   "metadata": {},
   "outputs": [
    {
     "name": "stderr",
     "output_type": "stream",
     "text": [
      "Warning message in left_join(combined_data, net_data, by = c(\"date\")):\n",
      "“\u001b[1m\u001b[22mEach row in `x` is expected to match at most 1 row in `y`.\n",
      "\u001b[36mℹ\u001b[39m Row 7 of `x` matches multiple rows.\n",
      "\u001b[36mℹ\u001b[39m If multiple matches are expected, set `multiple = \"all\"` to silence this\n",
      "  warning.”\n"
     ]
    }
   ],
   "source": [
    "# Now add the net data\n",
    "combined_data_master = left_join(combined_data, net_data, by=c('date'))"
   ]
  },
  {
   "cell_type": "code",
   "execution_count": 67,
   "id": "d3cfacd7",
   "metadata": {},
   "outputs": [
    {
     "data": {
      "text/html": [
       "<table class=\"dataframe\">\n",
       "<caption>A data.frame: 6 × 12</caption>\n",
       "<thead>\n",
       "\t<tr><th></th><th scope=col>date</th><th scope=col>year</th><th scope=col>fish_count</th><th scope=col>precipitation</th><th scope=col>air_temp</th><th scope=col>stage</th><th scope=col>discharge</th><th scope=col>water_temp</th><th scope=col>luna</th><th scope=col>moon_phase</th><th scope=col>set_net</th><th scope=col>drift_net</th></tr>\n",
       "\t<tr><th></th><th scope=col>&lt;date&gt;</th><th scope=col>&lt;int&gt;</th><th scope=col>&lt;int&gt;</th><th scope=col>&lt;dbl&gt;</th><th scope=col>&lt;dbl&gt;</th><th scope=col>&lt;dbl&gt;</th><th scope=col>&lt;int&gt;</th><th scope=col>&lt;dbl&gt;</th><th scope=col>&lt;int&gt;</th><th scope=col>&lt;chr&gt;</th><th scope=col>&lt;dbl&gt;</th><th scope=col>&lt;dbl&gt;</th></tr>\n",
       "</thead>\n",
       "<tbody>\n",
       "\t<tr><th scope=row>1</th><td>2022-07-01</td><td>2022</td><td> 5034</td><td>0</td><td>57.5</td><td> 9.92</td><td>15000</td><td>59.72</td><td> 3</td><td>New Moon     </td><td>NA</td><td>NA</td></tr>\n",
       "\t<tr><th scope=row>2</th><td>2022-07-02</td><td>2022</td><td> 4212</td><td>0</td><td>56.5</td><td>10.02</td><td>15200</td><td>59.00</td><td> 4</td><td>New Moon     </td><td> 0</td><td> 1</td></tr>\n",
       "\t<tr><th scope=row>3</th><td>2022-07-03</td><td>2022</td><td> 5796</td><td>0</td><td>58.5</td><td>10.04</td><td>15300</td><td>57.20</td><td> 5</td><td>New Moon     </td><td>NA</td><td>NA</td></tr>\n",
       "\t<tr><th scope=row>4</th><td>2022-07-04</td><td>2022</td><td> 7314</td><td>0</td><td>57.5</td><td>10.08</td><td>15300</td><td>56.84</td><td> 6</td><td>New Moon     </td><td> 0</td><td> 0</td></tr>\n",
       "\t<tr><th scope=row>5</th><td>2022-07-05</td><td>2022</td><td> 7386</td><td>0</td><td>55.5</td><td>10.03</td><td>15200</td><td>57.02</td><td> 7</td><td>New Moon     </td><td>NA</td><td>NA</td></tr>\n",
       "\t<tr><th scope=row>6</th><td>2022-07-06</td><td>2022</td><td>10341</td><td>0</td><td>57.5</td><td>10.02</td><td>15100</td><td>56.84</td><td>10</td><td>First Quarter</td><td> 0</td><td> 0</td></tr>\n",
       "</tbody>\n",
       "</table>\n"
      ],
      "text/latex": [
       "A data.frame: 6 × 12\n",
       "\\begin{tabular}{r|llllllllllll}\n",
       "  & date & year & fish\\_count & precipitation & air\\_temp & stage & discharge & water\\_temp & luna & moon\\_phase & set\\_net & drift\\_net\\\\\n",
       "  & <date> & <int> & <int> & <dbl> & <dbl> & <dbl> & <int> & <dbl> & <int> & <chr> & <dbl> & <dbl>\\\\\n",
       "\\hline\n",
       "\t1 & 2022-07-01 & 2022 &  5034 & 0 & 57.5 &  9.92 & 15000 & 59.72 &  3 & New Moon      & NA & NA\\\\\n",
       "\t2 & 2022-07-02 & 2022 &  4212 & 0 & 56.5 & 10.02 & 15200 & 59.00 &  4 & New Moon      &  0 &  1\\\\\n",
       "\t3 & 2022-07-03 & 2022 &  5796 & 0 & 58.5 & 10.04 & 15300 & 57.20 &  5 & New Moon      & NA & NA\\\\\n",
       "\t4 & 2022-07-04 & 2022 &  7314 & 0 & 57.5 & 10.08 & 15300 & 56.84 &  6 & New Moon      &  0 &  0\\\\\n",
       "\t5 & 2022-07-05 & 2022 &  7386 & 0 & 55.5 & 10.03 & 15200 & 57.02 &  7 & New Moon      & NA & NA\\\\\n",
       "\t6 & 2022-07-06 & 2022 & 10341 & 0 & 57.5 & 10.02 & 15100 & 56.84 & 10 & First Quarter &  0 &  0\\\\\n",
       "\\end{tabular}\n"
      ],
      "text/markdown": [
       "\n",
       "A data.frame: 6 × 12\n",
       "\n",
       "| <!--/--> | date &lt;date&gt; | year &lt;int&gt; | fish_count &lt;int&gt; | precipitation &lt;dbl&gt; | air_temp &lt;dbl&gt; | stage &lt;dbl&gt; | discharge &lt;int&gt; | water_temp &lt;dbl&gt; | luna &lt;int&gt; | moon_phase &lt;chr&gt; | set_net &lt;dbl&gt; | drift_net &lt;dbl&gt; |\n",
       "|---|---|---|---|---|---|---|---|---|---|---|---|---|\n",
       "| 1 | 2022-07-01 | 2022 |  5034 | 0 | 57.5 |  9.92 | 15000 | 59.72 |  3 | New Moon      | NA | NA |\n",
       "| 2 | 2022-07-02 | 2022 |  4212 | 0 | 56.5 | 10.02 | 15200 | 59.00 |  4 | New Moon      |  0 |  1 |\n",
       "| 3 | 2022-07-03 | 2022 |  5796 | 0 | 58.5 | 10.04 | 15300 | 57.20 |  5 | New Moon      | NA | NA |\n",
       "| 4 | 2022-07-04 | 2022 |  7314 | 0 | 57.5 | 10.08 | 15300 | 56.84 |  6 | New Moon      |  0 |  0 |\n",
       "| 5 | 2022-07-05 | 2022 |  7386 | 0 | 55.5 | 10.03 | 15200 | 57.02 |  7 | New Moon      | NA | NA |\n",
       "| 6 | 2022-07-06 | 2022 | 10341 | 0 | 57.5 | 10.02 | 15100 | 56.84 | 10 | First Quarter |  0 |  0 |\n",
       "\n"
      ],
      "text/plain": [
       "  date       year fish_count precipitation air_temp stage discharge water_temp\n",
       "1 2022-07-01 2022  5034      0             57.5      9.92 15000     59.72     \n",
       "2 2022-07-02 2022  4212      0             56.5     10.02 15200     59.00     \n",
       "3 2022-07-03 2022  5796      0             58.5     10.04 15300     57.20     \n",
       "4 2022-07-04 2022  7314      0             57.5     10.08 15300     56.84     \n",
       "5 2022-07-05 2022  7386      0             55.5     10.03 15200     57.02     \n",
       "6 2022-07-06 2022 10341      0             57.5     10.02 15100     56.84     \n",
       "  luna moon_phase    set_net drift_net\n",
       "1  3   New Moon      NA      NA       \n",
       "2  4   New Moon       0       1       \n",
       "3  5   New Moon      NA      NA       \n",
       "4  6   New Moon       0       0       \n",
       "5  7   New Moon      NA      NA       \n",
       "6 10   First Quarter  0       0       "
      ]
     },
     "metadata": {},
     "output_type": "display_data"
    }
   ],
   "source": [
    "head(combined_data_master)"
   ]
  },
  {
   "cell_type": "code",
   "execution_count": 68,
   "id": "d7929481",
   "metadata": {},
   "outputs": [
    {
     "data": {
      "text/plain": [
       "      date                 year        fish_count     precipitation    \n",
       " Min.   :2000-07-01   Min.   :2000   Min.   :  1436   Min.   :0.00000  \n",
       " 1st Qu.:2014-08-06   1st Qu.:2014   1st Qu.: 14098   1st Qu.:0.00000  \n",
       " Median :2016-08-10   Median :2016   Median : 25556   Median :0.00750  \n",
       " Mean   :2015-07-20   Mean   :2015   Mean   : 31208   Mean   :0.08536  \n",
       " 3rd Qu.:2019-08-05   3rd Qu.:2019   3rd Qu.: 41544   3rd Qu.:0.10000  \n",
       " Max.   :2022-08-16   Max.   :2022   Max.   :189420   Max.   :1.14000  \n",
       "                                                                       \n",
       "    air_temp         stage         discharge       water_temp   \n",
       " Min.   :45.50   Min.   : 7.27   Min.   :10500   Min.   :47.66  \n",
       " 1st Qu.:54.50   1st Qu.: 9.16   1st Qu.:13200   1st Qu.:52.70  \n",
       " Median :56.50   Median : 9.48   Median :14400   Median :54.50  \n",
       " Mean   :56.76   Mean   : 9.57   Mean   :14746   Mean   :54.57  \n",
       " 3rd Qu.:58.50   3rd Qu.:10.08   3rd Qu.:16300   3rd Qu.:56.30  \n",
       " Max.   :70.00   Max.   :11.27   Max.   :20400   Max.   :63.86  \n",
       "                                                                \n",
       "      luna        moon_phase           set_net         drift_net     \n",
       " Min.   : 0.00   Length:880         Min.   :0.0000   Min.   :0.0000  \n",
       " 1st Qu.: 7.00   Class :character   1st Qu.:0.0000   1st Qu.:0.0000  \n",
       " Median :17.00   Mode  :character   Median :0.0000   Median :0.0000  \n",
       " Mean   :18.03                      Mean   :0.3216   Mean   :0.1769  \n",
       " 3rd Qu.:27.00                      3rd Qu.:1.0000   3rd Qu.:0.0000  \n",
       " Max.   :37.00                      Max.   :1.0000   Max.   :1.0000  \n",
       "                                    NA's   :196      NA's   :196     "
      ]
     },
     "metadata": {},
     "output_type": "display_data"
    }
   ],
   "source": [
    "# Before replacing NA\n",
    "summary(combined_data_master)"
   ]
  },
  {
   "cell_type": "code",
   "execution_count": 69,
   "id": "4babe078",
   "metadata": {},
   "outputs": [],
   "source": [
    "combined_data_master[is.na(combined_data_master)] <- 0"
   ]
  },
  {
   "cell_type": "code",
   "execution_count": 71,
   "id": "bc681e0a",
   "metadata": {},
   "outputs": [
    {
     "data": {
      "text/plain": [
       "      date                 year        fish_count     precipitation    \n",
       " Min.   :2000-07-01   Min.   :2000   Min.   :  1436   Min.   :0.00000  \n",
       " 1st Qu.:2014-08-06   1st Qu.:2014   1st Qu.: 14098   1st Qu.:0.00000  \n",
       " Median :2016-08-10   Median :2016   Median : 25556   Median :0.00750  \n",
       " Mean   :2015-07-20   Mean   :2015   Mean   : 31208   Mean   :0.08536  \n",
       " 3rd Qu.:2019-08-05   3rd Qu.:2019   3rd Qu.: 41544   3rd Qu.:0.10000  \n",
       " Max.   :2022-08-16   Max.   :2022   Max.   :189420   Max.   :1.14000  \n",
       "    air_temp         stage         discharge       water_temp   \n",
       " Min.   :45.50   Min.   : 7.27   Min.   :10500   Min.   :47.66  \n",
       " 1st Qu.:54.50   1st Qu.: 9.16   1st Qu.:13200   1st Qu.:52.70  \n",
       " Median :56.50   Median : 9.48   Median :14400   Median :54.50  \n",
       " Mean   :56.76   Mean   : 9.57   Mean   :14746   Mean   :54.57  \n",
       " 3rd Qu.:58.50   3rd Qu.:10.08   3rd Qu.:16300   3rd Qu.:56.30  \n",
       " Max.   :70.00   Max.   :11.27   Max.   :20400   Max.   :63.86  \n",
       "      luna        moon_phase           set_net       drift_net     \n",
       " Min.   : 0.00   Length:880         Min.   :0.00   Min.   :0.0000  \n",
       " 1st Qu.: 7.00   Class :character   1st Qu.:0.00   1st Qu.:0.0000  \n",
       " Median :17.00   Mode  :character   Median :0.00   Median :0.0000  \n",
       " Mean   :18.03                      Mean   :0.25   Mean   :0.1375  \n",
       " 3rd Qu.:27.00                      3rd Qu.:0.25   3rd Qu.:0.0000  \n",
       " Max.   :37.00                      Max.   :1.00   Max.   :1.0000  "
      ]
     },
     "metadata": {},
     "output_type": "display_data"
    }
   ],
   "source": [
    "summary(combined_data_master)"
   ]
  },
  {
   "cell_type": "code",
   "execution_count": 76,
   "id": "1b54c3e9",
   "metadata": {},
   "outputs": [
    {
     "data": {
      "text/html": [
       "<table class=\"dataframe\">\n",
       "<caption>A data.frame: 6 × 12</caption>\n",
       "<thead>\n",
       "\t<tr><th></th><th scope=col>date</th><th scope=col>year</th><th scope=col>fish_count</th><th scope=col>precipitation</th><th scope=col>air_temp</th><th scope=col>stage</th><th scope=col>discharge</th><th scope=col>water_temp</th><th scope=col>luna</th><th scope=col>moon_phase</th><th scope=col>set_net</th><th scope=col>drift_net</th></tr>\n",
       "\t<tr><th></th><th scope=col>&lt;date&gt;</th><th scope=col>&lt;int&gt;</th><th scope=col>&lt;int&gt;</th><th scope=col>&lt;dbl&gt;</th><th scope=col>&lt;dbl&gt;</th><th scope=col>&lt;dbl&gt;</th><th scope=col>&lt;int&gt;</th><th scope=col>&lt;dbl&gt;</th><th scope=col>&lt;int&gt;</th><th scope=col>&lt;chr&gt;</th><th scope=col>&lt;dbl&gt;</th><th scope=col>&lt;dbl&gt;</th></tr>\n",
       "</thead>\n",
       "<tbody>\n",
       "\t<tr><th scope=row>1</th><td>2022-07-01</td><td>2022</td><td> 5034</td><td>0</td><td>57.5</td><td> 9.92</td><td>15000</td><td>59.72</td><td> 3</td><td>New Moon     </td><td>0</td><td>0</td></tr>\n",
       "\t<tr><th scope=row>2</th><td>2022-07-02</td><td>2022</td><td> 4212</td><td>0</td><td>56.5</td><td>10.02</td><td>15200</td><td>59.00</td><td> 4</td><td>New Moon     </td><td>0</td><td>1</td></tr>\n",
       "\t<tr><th scope=row>3</th><td>2022-07-03</td><td>2022</td><td> 5796</td><td>0</td><td>58.5</td><td>10.04</td><td>15300</td><td>57.20</td><td> 5</td><td>New Moon     </td><td>0</td><td>0</td></tr>\n",
       "\t<tr><th scope=row>4</th><td>2022-07-04</td><td>2022</td><td> 7314</td><td>0</td><td>57.5</td><td>10.08</td><td>15300</td><td>56.84</td><td> 6</td><td>New Moon     </td><td>0</td><td>0</td></tr>\n",
       "\t<tr><th scope=row>5</th><td>2022-07-05</td><td>2022</td><td> 7386</td><td>0</td><td>55.5</td><td>10.03</td><td>15200</td><td>57.02</td><td> 7</td><td>New Moon     </td><td>0</td><td>0</td></tr>\n",
       "\t<tr><th scope=row>6</th><td>2022-07-06</td><td>2022</td><td>10341</td><td>0</td><td>57.5</td><td>10.02</td><td>15100</td><td>56.84</td><td>10</td><td>First Quarter</td><td>0</td><td>0</td></tr>\n",
       "</tbody>\n",
       "</table>\n"
      ],
      "text/latex": [
       "A data.frame: 6 × 12\n",
       "\\begin{tabular}{r|llllllllllll}\n",
       "  & date & year & fish\\_count & precipitation & air\\_temp & stage & discharge & water\\_temp & luna & moon\\_phase & set\\_net & drift\\_net\\\\\n",
       "  & <date> & <int> & <int> & <dbl> & <dbl> & <dbl> & <int> & <dbl> & <int> & <chr> & <dbl> & <dbl>\\\\\n",
       "\\hline\n",
       "\t1 & 2022-07-01 & 2022 &  5034 & 0 & 57.5 &  9.92 & 15000 & 59.72 &  3 & New Moon      & 0 & 0\\\\\n",
       "\t2 & 2022-07-02 & 2022 &  4212 & 0 & 56.5 & 10.02 & 15200 & 59.00 &  4 & New Moon      & 0 & 1\\\\\n",
       "\t3 & 2022-07-03 & 2022 &  5796 & 0 & 58.5 & 10.04 & 15300 & 57.20 &  5 & New Moon      & 0 & 0\\\\\n",
       "\t4 & 2022-07-04 & 2022 &  7314 & 0 & 57.5 & 10.08 & 15300 & 56.84 &  6 & New Moon      & 0 & 0\\\\\n",
       "\t5 & 2022-07-05 & 2022 &  7386 & 0 & 55.5 & 10.03 & 15200 & 57.02 &  7 & New Moon      & 0 & 0\\\\\n",
       "\t6 & 2022-07-06 & 2022 & 10341 & 0 & 57.5 & 10.02 & 15100 & 56.84 & 10 & First Quarter & 0 & 0\\\\\n",
       "\\end{tabular}\n"
      ],
      "text/markdown": [
       "\n",
       "A data.frame: 6 × 12\n",
       "\n",
       "| <!--/--> | date &lt;date&gt; | year &lt;int&gt; | fish_count &lt;int&gt; | precipitation &lt;dbl&gt; | air_temp &lt;dbl&gt; | stage &lt;dbl&gt; | discharge &lt;int&gt; | water_temp &lt;dbl&gt; | luna &lt;int&gt; | moon_phase &lt;chr&gt; | set_net &lt;dbl&gt; | drift_net &lt;dbl&gt; |\n",
       "|---|---|---|---|---|---|---|---|---|---|---|---|---|\n",
       "| 1 | 2022-07-01 | 2022 |  5034 | 0 | 57.5 |  9.92 | 15000 | 59.72 |  3 | New Moon      | 0 | 0 |\n",
       "| 2 | 2022-07-02 | 2022 |  4212 | 0 | 56.5 | 10.02 | 15200 | 59.00 |  4 | New Moon      | 0 | 1 |\n",
       "| 3 | 2022-07-03 | 2022 |  5796 | 0 | 58.5 | 10.04 | 15300 | 57.20 |  5 | New Moon      | 0 | 0 |\n",
       "| 4 | 2022-07-04 | 2022 |  7314 | 0 | 57.5 | 10.08 | 15300 | 56.84 |  6 | New Moon      | 0 | 0 |\n",
       "| 5 | 2022-07-05 | 2022 |  7386 | 0 | 55.5 | 10.03 | 15200 | 57.02 |  7 | New Moon      | 0 | 0 |\n",
       "| 6 | 2022-07-06 | 2022 | 10341 | 0 | 57.5 | 10.02 | 15100 | 56.84 | 10 | First Quarter | 0 | 0 |\n",
       "\n"
      ],
      "text/plain": [
       "  date       year fish_count precipitation air_temp stage discharge water_temp\n",
       "1 2022-07-01 2022  5034      0             57.5      9.92 15000     59.72     \n",
       "2 2022-07-02 2022  4212      0             56.5     10.02 15200     59.00     \n",
       "3 2022-07-03 2022  5796      0             58.5     10.04 15300     57.20     \n",
       "4 2022-07-04 2022  7314      0             57.5     10.08 15300     56.84     \n",
       "5 2022-07-05 2022  7386      0             55.5     10.03 15200     57.02     \n",
       "6 2022-07-06 2022 10341      0             57.5     10.02 15100     56.84     \n",
       "  luna moon_phase    set_net drift_net\n",
       "1  3   New Moon      0       0        \n",
       "2  4   New Moon      0       1        \n",
       "3  5   New Moon      0       0        \n",
       "4  6   New Moon      0       0        \n",
       "5  7   New Moon      0       0        \n",
       "6 10   First Quarter 0       0        "
      ]
     },
     "metadata": {},
     "output_type": "display_data"
    }
   ],
   "source": [
    "head(combined_data_master)"
   ]
  },
  {
   "cell_type": "code",
   "execution_count": 80,
   "id": "68a91fd8",
   "metadata": {},
   "outputs": [],
   "source": [
    "# Added new column to indicate when both nets is out\n",
    "combined_data_master$net = with(combined_data_master, ifelse(set_net == 0 & drift_net == 0, 'out', \n",
    "                                ifelse(set_net == 1 & drift_net == 0, 'set',\n",
    "                                      ifelse(set_net == 0 & drift_net == 1, 'drift', 'both'))))\n",
    "    "
   ]
  },
  {
   "cell_type": "code",
   "execution_count": 82,
   "id": "5d98a50d",
   "metadata": {},
   "outputs": [],
   "source": [
    "write.csv(combined_data_master, '../Data/fish_master.csv', row.names=FALSE)"
   ]
  }
 ],
 "metadata": {
  "kernelspec": {
   "display_name": "R",
   "language": "R",
   "name": "ir"
  },
  "language_info": {
   "codemirror_mode": "r",
   "file_extension": ".r",
   "mimetype": "text/x-r-source",
   "name": "R",
   "pygments_lexer": "r",
   "version": "4.1.2"
  },
  "toc": {
   "base_numbering": 1,
   "nav_menu": {},
   "number_sections": true,
   "sideBar": true,
   "skip_h1_title": false,
   "title_cell": "Table of Contents",
   "title_sidebar": "Contents",
   "toc_cell": false,
   "toc_position": {},
   "toc_section_display": true,
   "toc_window_display": false
  },
  "varInspector": {
   "cols": {
    "lenName": 16,
    "lenType": 16,
    "lenVar": 40
   },
   "kernels_config": {
    "python": {
     "delete_cmd_postfix": "",
     "delete_cmd_prefix": "del ",
     "library": "var_list.py",
     "varRefreshCmd": "print(var_dic_list())"
    },
    "r": {
     "delete_cmd_postfix": ") ",
     "delete_cmd_prefix": "rm(",
     "library": "var_list.r",
     "varRefreshCmd": "cat(var_dic_list()) "
    }
   },
   "types_to_exclude": [
    "module",
    "function",
    "builtin_function_or_method",
    "instance",
    "_Feature"
   ],
   "window_display": false
  }
 },
 "nbformat": 4,
 "nbformat_minor": 5
}
